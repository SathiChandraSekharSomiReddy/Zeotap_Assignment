{
 "cells": [
  {
   "cell_type": "code",
   "execution_count": 1,
   "id": "d7106e1f-5a1b-4f26-836a-283c9f2a7ff5",
   "metadata": {},
   "outputs": [],
   "source": [
    "from sklearn.metrics.pairwise import cosine_similarity\n",
    "from sklearn.preprocessing import StandardScaler\n",
    "import pandas as pd"
   ]
  },
  {
   "cell_type": "code",
   "execution_count": 2,
   "id": "08862462-53e3-4fbd-8927-d543a7cec007",
   "metadata": {},
   "outputs": [],
   "source": [
    "# Load Data\n",
    "customers = pd.read_csv('Customers.csv')\n",
    "products = pd.read_csv('Products.csv')\n",
    "transactions = pd.read_csv('Transactions.csv')"
   ]
  },
  {
   "cell_type": "code",
   "execution_count": 3,
   "id": "88dbe988-a71a-45ee-a0f9-cf1d08de2442",
   "metadata": {},
   "outputs": [],
   "source": [
    "# Merge Datasets\n",
    "data = transactions.merge(customers, on='CustomerID').merge(products, on='ProductID')"
   ]
  },
  {
   "cell_type": "code",
   "execution_count": 6,
   "id": "8e163ca2-7e9d-4c9e-8f85-b53015449f45",
   "metadata": {},
   "outputs": [],
   "source": [
    "# Feature Engineering\n",
    "customer_features = data.groupby('CustomerID').agg({\n",
    "    'TotalValue': 'sum',\n",
    "    'Quantity': 'sum',\n",
    "    'ProductID': 'nunique'\n",
    "}).rename(columns={'TotalValue': 'TotalSpend', 'Quantity': 'TotalItems', 'ProductID': 'UniqueProducts'})"
   ]
  },
  {
   "cell_type": "code",
   "execution_count": 8,
   "id": "72d548d2-5f65-4d85-998d-1216de1029ed",
   "metadata": {},
   "outputs": [],
   "source": [
    "# Normalize Features\n",
    "scaler = StandardScaler()\n",
    "scaled_features = scaler.fit_transform(customer_features)"
   ]
  },
  {
   "cell_type": "code",
   "execution_count": 11,
   "id": "fa078a7b-ce39-41fa-9d64-8ece49b595fb",
   "metadata": {},
   "outputs": [],
   "source": [
    "# Similarity Calculation\n",
    "similarity_matrix = cosine_similarity(scaled_features)\n",
    "similarity_df = pd.DataFrame(similarity_matrix, index=customer_features.index, columns=customer_features.index)"
   ]
  },
  {
   "cell_type": "code",
   "execution_count": 12,
   "id": "633dc5b7-3436-4247-860d-9a5e2e352c91",
   "metadata": {},
   "outputs": [],
   "source": [
    "# Top 3 Lookalikes for Customers C0001 to C0020\n",
    "lookalike_dict = {}\n",
    "for customer_id in customer_features.index[:20]:\n",
    "    similar_customers = similarity_df.loc[customer_id].sort_values(ascending=False)[1:4]\n",
    "    lookalike_dict[customer_id] = list(zip(similar_customers.index, similar_customers.values))"
   ]
  },
  {
   "cell_type": "code",
   "execution_count": 13,
   "id": "601e9de9-5a22-4e0b-ac5b-f66cd9940a5f",
   "metadata": {},
   "outputs": [],
   "source": [
    "# Save as CSV\n",
    "lookalike_output = pd.DataFrame([\n",
    "    {'cust_id': k, 'lookalikes': str(v)} for k, v in lookalike_dict.items()\n",
    "])\n",
    "lookalike_output.to_csv('FirstName_LastName_Lookalike.csv', index=False)"
   ]
  },
  {
   "cell_type": "code",
   "execution_count": 14,
   "id": "d12edac9-a014-40e4-b79b-1b397adb3f32",
   "metadata": {},
   "outputs": [],
   "source": [
    "lookalike = pd.read_csv('FirstName_LastName_Lookalike.csv')"
   ]
  },
  {
   "cell_type": "code",
   "execution_count": 15,
   "id": "7ca8b7c7-a009-470c-a3dd-79142737fc66",
   "metadata": {},
   "outputs": [
    {
     "name": "stdout",
     "output_type": "stream",
     "text": [
      "  cust_id                                         lookalikes\n",
      "0   C0001  [('C0164', 0.9684103747672834), ('C0137', 0.96...\n",
      "1   C0002  [('C0029', 0.9997616343498978), ('C0031', 0.99...\n",
      "2   C0003  [('C0176', 0.8906401232895584), ('C0027', 0.86...\n",
      "3   C0004  [('C0075', 0.9976740652389241), ('C0175', 0.99...\n",
      "4   C0005  [('C0058', 0.9997982043779898), ('C0123', 0.99...\n"
     ]
    }
   ],
   "source": [
    "# Preview the output\n",
    "print(lookalike.head())"
   ]
  },
  {
   "cell_type": "code",
   "execution_count": 16,
   "id": "811466b7-8d8f-474c-9c03-fe7713717a7f",
   "metadata": {},
   "outputs": [
    {
     "name": "stdout",
     "output_type": "stream",
     "text": [
      "   cust_id                                         lookalikes\n",
      "0    C0001  [('C0164', 0.9684103747672834), ('C0137', 0.96...\n",
      "1    C0002  [('C0029', 0.9997616343498978), ('C0031', 0.99...\n",
      "2    C0003  [('C0176', 0.8906401232895584), ('C0027', 0.86...\n",
      "3    C0004  [('C0075', 0.9976740652389241), ('C0175', 0.99...\n",
      "4    C0005  [('C0058', 0.9997982043779898), ('C0123', 0.99...\n",
      "5    C0006  [('C0079', 0.9998795967431424), ('C0196', 0.99...\n",
      "6    C0007  [('C0140', 0.9985337287784547), ('C0085', 0.99...\n",
      "7    C0008  [('C0179', 0.9965086350321659), ('C0081', 0.99...\n",
      "8    C0009  [('C0192', 0.9983620640345526), ('C0177', 0.99...\n",
      "9    C0010  [('C0142', 0.964094866380962), ('C0027', 0.956...\n",
      "10   C0011  [('C0023', 0.9819122814188915), ('C0064', 0.97...\n",
      "11   C0012  [('C0041', 0.997318308138947), ('C0045', 0.995...\n",
      "12   C0013  [('C0059', 0.9992581092102039), ('C0141', 0.99...\n",
      "13   C0014  [('C0033', 0.9996378284444327), ('C0095', 0.99...\n",
      "14   C0015  [('C0131', 0.9999953416670492), ('C0058', 0.99...\n",
      "15   C0016  [('C0107', 0.9642876834861009), ('C0152', 0.84...\n",
      "16   C0017  [('C0162', 0.9977685065474171), ('C0124', 0.99...\n",
      "17   C0018  [('C0182', 0.9847257873183777), ('C0165', 0.98...\n",
      "18   C0019  [('C0172', 0.9869730973269422), ('C0116', 0.95...\n",
      "19   C0020  [('C0080', 0.9998945211239678), ('C0167', 0.99...\n"
     ]
    }
   ],
   "source": [
    "print(lookalike)"
   ]
  },
  {
   "cell_type": "code",
   "execution_count": null,
   "id": "3062faf6-86c2-4b36-b1eb-1cdca983a88f",
   "metadata": {},
   "outputs": [],
   "source": []
  }
 ],
 "metadata": {
  "kernelspec": {
   "display_name": "Python 3 (ipykernel)",
   "language": "python",
   "name": "python3"
  },
  "language_info": {
   "codemirror_mode": {
    "name": "ipython",
    "version": 3
   },
   "file_extension": ".py",
   "mimetype": "text/x-python",
   "name": "python",
   "nbconvert_exporter": "python",
   "pygments_lexer": "ipython3",
   "version": "3.9.6"
  }
 },
 "nbformat": 4,
 "nbformat_minor": 5
}
